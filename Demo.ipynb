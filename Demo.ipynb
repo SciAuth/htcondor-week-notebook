{
 "cells": [
  {
   "cell_type": "markdown",
   "id": "a90df8c6-f3e4-45f2-bbbf-f8b547d9183e",
   "metadata": {},
   "source": [
    "# SciAuth Tutorial\n",
    "\n",
    "In this tutorial you will learn how to:\n",
    "1. Create a SciToken signing key.\n",
    "2. Publish the key to a website to create an issuer.\n",
    "3. Use a token to submit to a HTCondor node.\n",
    "\n",
    "### Requirements\n",
    "- GitHub account\n",
    "- This notebook already has the python-scitokens package installed.  You can install it with `pip install scitokens`\n",
    "\n",
    "This page is a special `bash` type page rather than Python.  Commands entered into this page are executed on the command line, not within a python interpreter."
   ]
  },
  {
   "cell_type": "markdown",
   "id": "28db831f-1d46-4f16-8c03-4fc567f1f1fc",
   "metadata": {},
   "source": [
    "## Creating a Key\n",
    "\n",
    "We first will create a private and public key to sign tokens that we will create.\n",
    "\n",
    "Create the private key with the `scitokens-admin-create-key` program."
   ]
  },
  {
   "cell_type": "code",
   "execution_count": null,
   "id": "32f0b7cc-e368-4732-a6d2-885a37b45767",
   "metadata": {},
   "outputs": [],
   "source": [
    "scitokens-admin-create-key --create-keys --pem-private > private.pem"
   ]
  },
  {
   "cell_type": "markdown",
   "id": "cfd4c0b2-3dc6-4d8b-ad06-20477f8f26dc",
   "metadata": {},
   "source": [
    "Take a look at the newly created private key, `private.pem`.  You may want to **backup** the file since it's an important private key.  Feel free to download it from the file browser at the left."
   ]
  },
  {
   "cell_type": "code",
   "execution_count": null,
   "id": "6d6e9a6f-461a-4a45-aafe-5cda4618473b",
   "metadata": {},
   "outputs": [],
   "source": [
    "cat private.pem"
   ]
  },
  {
   "cell_type": "markdown",
   "id": "dd4d94d6-1646-4af5-94b4-d31738423665",
   "metadata": {},
   "source": [
    "Next we will create the public key, in jwks format so that we can upload it to the website."
   ]
  },
  {
   "cell_type": "code",
   "execution_count": null,
   "id": "187ebd25-3e3f-40cb-a9a5-b7c4aac4d83a",
   "metadata": {},
   "outputs": [],
   "source": [
    "scitokens-admin-create-key --private-keyfile private.pem --jwks-public"
   ]
  },
  {
   "cell_type": "markdown",
   "id": "cd33c308-26c4-47fc-968f-a8d218057243",
   "metadata": {},
   "source": [
    "In order for an issuer to work, you need:\n",
    "1. A metadata page for clients to find the keys (`username/.well-known/openid-configuration`) \n",
    "2. The public keys\n",
    "\n",
    "The metadata page is very short with only 2 attributes.  In the example below, be sure to replace my github username (djw8605) with your own.\n",
    "\n",
    "Steps to create the issuer:\n",
    "1. Create the configuration file by going to the [repo website](https://github.com/SciAuth/htcondor-week-2022), clicking on \"Create a new file, then enter your github **username**, then \"/\", then `.well-known`, then \"/\", then `openid-configuration`\n",
    "\n",
    "    Metadata page (`openid-configuration`):\n",
    "    ```json\n",
    "    {  \n",
    "        \"issuer\":\"https://sciauth.org/htcondor-week-2022/djw8605\",\n",
    "        \"jwks_uri\":\"https://sciauth.org/htcondor-week-2022/djw8605/oauth2/keys\",\n",
    "    }\n",
    "    ```\n",
    "\n",
    "    Start the pull request by clicking \"Propose new file\" at the bottom.  Then click \"Create Pull Request\"\n",
    "\n",
    "2. Next, we will add the public keys to the pull request.  Under the pull request title, click on your branch.  Then, once again, click on \"Add file\" -> \"Create new file\".  This time, the path will be `username/oauth2/keys`.  The contents of the file will be the entire public key json above.  Be sure to include the starting and ending `{` and `}`.  Clicking on the commit at the bottom will add the new file to the pull request.\n",
    "\n",
    "After both of the files have been created, the pull request will be reviewed by the maintainers and accepted."
   ]
  },
  {
   "cell_type": "markdown",
   "id": "7cf42360-6265-4d7d-a1b2-8c16ad362b31",
   "metadata": {},
   "source": [
    "Once your pull request has been merged, you can test the downloads with curl:"
   ]
  },
  {
   "cell_type": "code",
   "execution_count": null,
   "id": "47aedacb-4c7f-4eb8-a5dd-8bf96622cefe",
   "metadata": {},
   "outputs": [],
   "source": [
    "curl https://sciauth.org/htcondor-week-2022/djw8605/.well-known/openid-configuration"
   ]
  },
  {
   "cell_type": "code",
   "execution_count": null,
   "id": "4fd786a7-6cef-4e7a-830a-44192e9f7c55",
   "metadata": {},
   "outputs": [],
   "source": [
    "curl https://sciauth.org/htcondor-week-2022/djw8605/oauth2/keys"
   ]
  },
  {
   "cell_type": "markdown",
   "id": "9f8bb7c5-c235-41a7-b5d7-5f2c473a3e1f",
   "metadata": {},
   "source": [
    "## Creating your first Token\n",
    "\n",
    "Next, we will create your first token."
   ]
  },
  {
   "cell_type": "code",
   "execution_count": null,
   "id": "be7438e8-7dea-4645-8f2c-96112914ba54",
   "metadata": {},
   "outputs": [],
   "source": [
    "scitokens-admin-create-token --keyfile=private.pem --key_id 6816 \\\n",
    "--issuer https://sciauth.org/htcondor-week-2022/djw8605 scope=\"compute.write:/ write:/ read:/\""
   ]
  },
  {
   "cell_type": "code",
   "execution_count": null,
   "id": "d2951e53-24b0-4cd7-b5ae-c0781cc567eb",
   "metadata": {},
   "outputs": [],
   "source": []
  }
 ],
 "metadata": {
  "kernelspec": {
   "display_name": "Bash",
   "language": "bash",
   "name": "bash"
  },
  "language_info": {
   "codemirror_mode": "shell",
   "file_extension": ".sh",
   "mimetype": "text/x-sh",
   "name": "bash"
  }
 },
 "nbformat": 4,
 "nbformat_minor": 5
}
