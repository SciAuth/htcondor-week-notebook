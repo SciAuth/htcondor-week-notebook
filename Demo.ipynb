{
 "cells": [
  {
   "cell_type": "markdown",
   "id": "a90df8c6-f3e4-45f2-bbbf-f8b547d9183e",
   "metadata": {},
   "source": [
    "# SciAuth Tutorial\n",
    "\n",
    "In this tutorial you will learn how to:\n",
    "1. Create a SciToken signing key.\n",
    "2. Publish the key to a website to create an issuer.\n",
    "3. Use a token to submit to a HTCondor node.\n",
    "\n",
    "### Requirements\n",
    "- GitHub account\n",
    "- This notebook already has the python-scitokens package installed.  You can install it with `pip install scitokens`\n",
    "\n",
    "This page is a special `bash` type page rather than Python.  Commands entered into this page are executed on the command line, not within a python interpreter."
   ]
  },
  {
   "cell_type": "markdown",
   "id": "28db831f-1d46-4f16-8c03-4fc567f1f1fc",
   "metadata": {},
   "source": [
    "## Creating a Key\n",
    "\n",
    "We first will create a private and public key to sign tokens that we will create.\n",
    "\n",
    "Create the private key with the `scitokens-admin-create-key` program."
   ]
  },
  {
   "cell_type": "code",
   "execution_count": null,
   "id": "32f0b7cc-e368-4732-a6d2-885a37b45767",
   "metadata": {},
   "outputs": [],
   "source": [
    "scitokens-admin-create-key --create-keys --pem-private > private.pem"
   ]
  },
  {
   "cell_type": "markdown",
   "id": "cfd4c0b2-3dc6-4d8b-ad06-20477f8f26dc",
   "metadata": {},
   "source": [
    "Take a look at the newly created private key, `private.pem`.  You may want to **backup** the file since it's an important private key.  Feel free to download it from the file browser at the left."
   ]
  },
  {
   "cell_type": "code",
   "execution_count": null,
   "id": "6d6e9a6f-461a-4a45-aafe-5cda4618473b",
   "metadata": {},
   "outputs": [],
   "source": [
    "cat private.pem"
   ]
  },
  {
   "cell_type": "markdown",
   "id": "dd4d94d6-1646-4af5-94b4-d31738423665",
   "metadata": {},
   "source": [
    "Next we will create the public key, in jwks format so that we can upload it to the website."
   ]
  },
  {
   "cell_type": "code",
   "execution_count": null,
   "id": "187ebd25-3e3f-40cb-a9a5-b7c4aac4d83a",
   "metadata": {},
   "outputs": [],
   "source": [
    "scitokens-admin-create-key --private-keyfile private.pem --jwks-public"
   ]
  },
  {
   "cell_type": "markdown",
   "id": "cd33c308-26c4-47fc-968f-a8d218057243",
   "metadata": {},
   "source": [
    "In order for an issuer to work, you need:\n",
    "1. A metadata page for clients to find the keys (`username/.well-known/openid-configuration`) \n",
    "2. The public keys\n",
    "\n",
    "The metadata page is very short with only 2 attributes.  In the example below, be sure to replace my github username (djw8605) with your own.\n",
    "\n",
    "Steps to create the issuer:\n",
    "1. Create the configuration file by going to the [repo website](https://github.com/SciAuth/htcondor-week-2022), clicking on \"Create a new file, then enter your github **username**, then \"/\", then `.well-known`, then \"/\", then `openid-configuration`\n",
    "\n",
    "    Metadata page (`openid-configuration`):\n",
    "    ```json\n",
    "    {  \n",
    "        \"issuer\":\"https://sciauth.org/htcondor-week-2022/djw8605\",\n",
    "        \"jwks_uri\":\"https://sciauth.org/htcondor-week-2022/djw8605/oauth2/keys\"\n",
    "    }\n",
    "    ```\n",
    "\n",
    "    Start the pull request by clicking \"Propose new file\" at the bottom.  Then click \"Create Pull Request\"\n",
    "\n",
    "2. Next, we will add the public keys to the pull request.  Under the pull request title, click on your branch.  Then, once again, click on \"Add file\" -> \"Create new file\".  This time, the path will be `username/oauth2/keys`.  The contents of the file will be the entire public key json above.  Be sure to include the starting and ending `{` and `}`.  Clicking on the commit at the bottom will add the new file to the pull request.\n",
    "\n",
    "After both of the files have been created, the pull request will be reviewed by the maintainers and accepted."
   ]
  },
  {
   "cell_type": "markdown",
   "id": "7cf42360-6265-4d7d-a1b2-8c16ad362b31",
   "metadata": {},
   "source": [
    "Once your pull request has been merged, you can test the downloads with curl:"
   ]
  },
  {
   "cell_type": "code",
   "execution_count": null,
   "id": "47aedacb-4c7f-4eb8-a5dd-8bf96622cefe",
   "metadata": {},
   "outputs": [],
   "source": [
    "curl https://sciauth.org/htcondor-week-2022/djw8605/.well-known/openid-configuration"
   ]
  },
  {
   "cell_type": "code",
   "execution_count": null,
   "id": "4fd786a7-6cef-4e7a-830a-44192e9f7c55",
   "metadata": {},
   "outputs": [],
   "source": [
    "curl https://sciauth.org/htcondor-week-2022/djw8605/oauth2/keys"
   ]
  },
  {
   "cell_type": "markdown",
   "id": "9f8bb7c5-c235-41a7-b5d7-5f2c473a3e1f",
   "metadata": {},
   "source": [
    "## Creating your first Token\n",
    "\n",
    "Next, we will create your first token."
   ]
  },
  {
   "cell_type": "code",
   "execution_count": null,
   "id": "be7438e8-7dea-4645-8f2c-96112914ba54",
   "metadata": {},
   "outputs": [],
   "source": [
    "scitokens-admin-create-token --keyfile=private.pem --key_id 2482 \\\n",
    "--issuer https://sciauth.org/htcondor-week-2022/djw8605 scope=\"compute.write:/ write:/ read:/\""
   ]
  },
  {
   "cell_type": "markdown",
   "id": "63f972b1-18ca-4922-ab3d-832fb700da0c",
   "metadata": {},
   "source": [
    "## Submitting your first job\n",
    "\n",
    "Lets submit our first job.  It will use the token you just created.  You will be submitting to a remote cluster that is configured to accept all issuers under https://sciauth.org/htcondor-week-2022/*"
   ]
  },
  {
   "cell_type": "code",
   "execution_count": null,
   "id": "72be7b3c-dc66-45d5-b65c-d5520863cf5d",
   "metadata": {},
   "outputs": [],
   "source": [
    "condor_q"
   ]
  },
  {
   "cell_type": "markdown",
   "id": "eafadd66-3f31-4bf0-9694-d26eb93b146e",
   "metadata": {},
   "source": [
    "Lets copy our token to a known location"
   ]
  },
  {
   "cell_type": "code",
   "execution_count": null,
   "id": "12ad860d-8f74-416e-8ef8-26a103dd6bb7",
   "metadata": {},
   "outputs": [],
   "source": [
    "scitokens-admin-create-token --keyfile=private.pem --key_id 2482  \\\n",
    "--issuer https://sciauth.org/htcondor-week-2022/djw8605 sub=\"dweitzel\" scope=\"condor:READ condor:WRITE\" > token"
   ]
  },
  {
   "cell_type": "markdown",
   "id": "bb4fef69-a069-406b-b21d-dfae33745e1b",
   "metadata": {},
   "source": [
    "Save the token location to an environment variable for HTCondor to find"
   ]
  },
  {
   "cell_type": "code",
   "execution_count": null,
   "id": "2025ded4-6ac8-41e3-ad3a-80088837b6d1",
   "metadata": {},
   "outputs": [],
   "source": [
    "export BEARER_TOKEN_FILE=$PWD/token"
   ]
  },
  {
   "cell_type": "code",
   "execution_count": null,
   "id": "e0237cb8-58df-4ed4-b42e-8061921e76ec",
   "metadata": {},
   "outputs": [],
   "source": [
    "condor_q"
   ]
  },
  {
   "cell_type": "code",
   "execution_count": null,
   "id": "9a0e13aa-29ec-49e7-9add-c06eb702608d",
   "metadata": {},
   "outputs": [],
   "source": [
    "condor_submit job.txt -spool"
   ]
  },
  {
   "cell_type": "code",
   "execution_count": null,
   "id": "ef9ae30c-0ce5-4182-9799-4ccfa8155708",
   "metadata": {},
   "outputs": [],
   "source": [
    "condor_q"
   ]
  },
  {
   "cell_type": "code",
   "execution_count": null,
   "id": "f7a9fe35-de28-459d-ad9d-662cbbebaa57",
   "metadata": {},
   "outputs": [],
   "source": [
    "condor_transfer_data <jobid>"
   ]
  },
  {
   "cell_type": "code",
   "execution_count": null,
   "id": "ed00a6d5-9e4e-4319-ab04-c80f2d7b9fed",
   "metadata": {},
   "outputs": [],
   "source": [
    "cat log"
   ]
  },
  {
   "cell_type": "markdown",
   "id": "66923df3-26be-4ce8-94bd-9fb63f531013",
   "metadata": {},
   "source": [
    "## Get a token from an issuer\n",
    "\n",
    "We will be using [oidc-agent](https://indigo-dc.gitbook.io/oidc-agent/) to download a token to also submit a job.  This time, the issuer will instead by a public issuer, not a private key we generated.\n",
    "\n",
    "Since oidc-agent uses a lot of interaction, we will be using the jupyter terminal.  Click on the blue \"plus\" sign on the left top, and select \"Terminal\" at the bottom.\n",
    "\n",
    "The first step is to start the oidc-agent process."
   ]
  },
  {
   "cell_type": "code",
   "execution_count": null,
   "id": "8e6d3007-1ccb-4eb6-89a8-3d7173291447",
   "metadata": {},
   "outputs": [],
   "source": [
    "eval `oidc-agent-service use`"
   ]
  },
  {
   "cell_type": "markdown",
   "id": "26a0beaf-c1cd-4d3e-b0aa-564894d7926e",
   "metadata": {},
   "source": [
    "Next, setup the issuer configuration.  It will ask you several questions.  For scopes, select max.  You can just hit \"enter\" through the encryption password questions."
   ]
  },
  {
   "cell_type": "code",
   "execution_count": null,
   "id": "c875e3db-0fdb-4543-b272-8b5999261f6d",
   "metadata": {},
   "outputs": [],
   "source": [
    "oidc-gen issuer --issuer=https://lw-issuer.osgdev.chtc.io/scitokens-server/"
   ]
  },
  {
   "cell_type": "markdown",
   "id": "6007bc3a-b99d-4eec-8c9f-e1e72297f6dc",
   "metadata": {},
   "source": [
    "Get the token and put it on the command line with the `oidc-token` command:"
   ]
  },
  {
   "cell_type": "code",
   "execution_count": null,
   "id": "3c17d181-0961-4dfe-8c8c-a04b04c74baa",
   "metadata": {},
   "outputs": [],
   "source": [
    "oidc-token issuer"
   ]
  },
  {
   "cell_type": "markdown",
   "id": "8572ac17-184b-47ad-be82-006f00b97854",
   "metadata": {},
   "source": [
    "Save the new token to the `token` file."
   ]
  },
  {
   "cell_type": "code",
   "execution_count": null,
   "id": "555e00a9-3e23-4707-851a-27bae385d711",
   "metadata": {},
   "outputs": [],
   "source": [
    "oidc-token issuer > token"
   ]
  },
  {
   "cell_type": "code",
   "execution_count": null,
   "id": "ade4b06a-8d5a-4853-9f15-8156d8c349fe",
   "metadata": {},
   "outputs": [],
   "source": [
    "condor_q"
   ]
  },
  {
   "cell_type": "code",
   "execution_count": null,
   "id": "ceb5f862-bf15-4b92-b90c-4064ebd575a8",
   "metadata": {},
   "outputs": [],
   "source": []
  }
 ],
 "metadata": {
  "kernelspec": {
   "display_name": "Bash",
   "language": "bash",
   "name": "bash"
  },
  "language_info": {
   "codemirror_mode": "shell",
   "file_extension": ".sh",
   "mimetype": "text/x-sh",
   "name": "bash"
  }
 },
 "nbformat": 4,
 "nbformat_minor": 5
}
